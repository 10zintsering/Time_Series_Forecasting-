{
 "cells": [
  {
   "cell_type": "markdown",
   "metadata": {},
   "source": [
    "# Autoregressive Moving Averages\n",
    "\n",
    "ARMA models can be used on forecasting stationary datasets.\n",
    "\n",
    "This section covers sales forecasting with <em>Autoregressive Moving Averages</em> (ARMA).\n",
    "\n",
    "<strong>AR(1)</strong> model follows the formula\n",
    "\n",
    "&nbsp;&nbsp;&nbsp;&nbsp;$y_{t} = c + \\phi_{1}y_{t-1} + \\varepsilon_{t}$\n",
    "\n",
    "while an <strong>MA(1)</strong> model follows the formula\n",
    "\n",
    "&nbsp;&nbsp;&nbsp;&nbsp;$y_{t} = \\mu + \\theta_{1}\\varepsilon_{t-1} + \\varepsilon_{t}$\n",
    "\n",
    "where $c$ is a constant, $\\mu$ is the expectation of $y_{t}$ (often assumed to be zero), $\\phi_1$ (phi-sub-one) is the AR lag coefficient, $\\theta_1$ (theta-sub-one) is the MA lag coefficient, and $\\varepsilon$ (epsilon) is white noise.\n",
    "\n",
    "An <strong>ARMA(1,1)</strong> model therefore follows\n",
    "\n",
    "&nbsp;&nbsp;&nbsp;&nbsp;$y_{t} = c + \\phi_{1}y_{t-1} + \\theta_{1}\\varepsilon_{t-1} + \\varepsilon_{t}$\n",
    "\n",
    "Above is a general trend behind the mathematical formula for the ARMA model, but we shall perform a test to know what order of ARMA to be used for out data."
   ]
  },
  {
   "cell_type": "markdown",
   "metadata": {},
   "source": [
    "## Standard libraries import "
   ]
  },
  {
   "cell_type": "code",
   "execution_count": 1,
   "metadata": {},
   "outputs": [],
   "source": [
    "# Importing the libraries\n",
    "import numpy as np\n",
    "import matplotlib.pyplot as plt\n",
    "import pandas as pd\n",
    "\n",
    "# Ignore harmless warnings\n",
    "import warnings\n",
    "warnings.filterwarnings(\"ignore\")\n",
    "\n",
    "#loading ARMA forecasting tools\n",
    "from statsmodels.tsa.arima_model import ARMA,ARMAResults\n",
    "from statsmodels.tsa.stattools import arma_order_select_ic\n",
    "from statsmodels.tools.eval_measures import mse, rmse, meanabs\n",
    "\n",
    "%matplotlib inline"
   ]
  },
  {
   "cell_type": "markdown",
   "metadata": {},
   "source": [
    "## Automating the augmented Dickey-Fuller Test\n",
    "This code can be reusable for performing augmented Dickey-Fuller Test, if an incoming time series is stationary or not."
   ]
  },
  {
   "cell_type": "code",
   "execution_count": 2,
   "metadata": {},
   "outputs": [],
   "source": [
    "from statsmodels.tsa.stattools import adfuller\n",
    "\n",
    "def adf_test(series,title=''):\n",
    "    \"\"\"\n",
    "    Pass in a time series and an optional title, returns an ADF report\n",
    "    \"\"\"\n",
    "    print(f'Augmented Dickey-Fuller Test: {title}')\n",
    "    result = adfuller(series.dropna(),autolag='AIC') # .dropna() handles differenced data\n",
    "    \n",
    "    labels = ['ADF test statistic','p-value','# lags used','# observations']\n",
    "    out = pd.Series(result[0:4],index=labels)\n",
    "\n",
    "    for key,val in result[4].items():\n",
    "        out[f'critical value ({key})']=val\n",
    "        \n",
    "    print(out.to_string())          # .to_string() removes the line \"dtype: float64\"\n",
    "    \n",
    "    if result[1] <= 0.05:\n",
    "        print(\"Strong evidence against the null hypothesis\")\n",
    "        print(\"Reject the null hypothesis\")\n",
    "        print(\"Data has no unit root and is stationary\")\n",
    "    else:\n",
    "        print(\"Weak evidence against the null hypothesis\")\n",
    "        print(\"Fail to reject the null hypothesis\")\n",
    "        print(\"Data has a unit root and is non-stationary\")"
   ]
  },
  {
   "cell_type": "code",
   "execution_count": 3,
   "metadata": {},
   "outputs": [
    {
     "data": {
      "text/html": [
       "<div>\n",
       "<style scoped>\n",
       "    .dataframe tbody tr th:only-of-type {\n",
       "        vertical-align: middle;\n",
       "    }\n",
       "\n",
       "    .dataframe tbody tr th {\n",
       "        vertical-align: top;\n",
       "    }\n",
       "\n",
       "    .dataframe thead th {\n",
       "        text-align: right;\n",
       "    }\n",
       "</style>\n",
       "<table border=\"1\" class=\"dataframe\">\n",
       "  <thead>\n",
       "    <tr style=\"text-align: right;\">\n",
       "      <th></th>\n",
       "      <th>country</th>\n",
       "      <th>article</th>\n",
       "      <th>sales</th>\n",
       "      <th>regular_price</th>\n",
       "      <th>current_price</th>\n",
       "      <th>ratio</th>\n",
       "      <th>promo1</th>\n",
       "      <th>promo2</th>\n",
       "    </tr>\n",
       "    <tr>\n",
       "      <th>retailweek</th>\n",
       "      <th></th>\n",
       "      <th></th>\n",
       "      <th></th>\n",
       "      <th></th>\n",
       "      <th></th>\n",
       "      <th></th>\n",
       "      <th></th>\n",
       "      <th></th>\n",
       "    </tr>\n",
       "  </thead>\n",
       "  <tbody>\n",
       "    <tr>\n",
       "      <th>2014-12-28</th>\n",
       "      <td>Germany</td>\n",
       "      <td>AA1821</td>\n",
       "      <td>62</td>\n",
       "      <td>31.95</td>\n",
       "      <td>25.95</td>\n",
       "      <td>0.812207</td>\n",
       "      <td>1</td>\n",
       "      <td>0</td>\n",
       "    </tr>\n",
       "    <tr>\n",
       "      <th>2015-01-04</th>\n",
       "      <td>Germany</td>\n",
       "      <td>AA1821</td>\n",
       "      <td>29</td>\n",
       "      <td>31.95</td>\n",
       "      <td>22.95</td>\n",
       "      <td>0.718310</td>\n",
       "      <td>0</td>\n",
       "      <td>0</td>\n",
       "    </tr>\n",
       "    <tr>\n",
       "      <th>2015-01-11</th>\n",
       "      <td>Germany</td>\n",
       "      <td>AA1821</td>\n",
       "      <td>58</td>\n",
       "      <td>31.95</td>\n",
       "      <td>28.95</td>\n",
       "      <td>0.906103</td>\n",
       "      <td>0</td>\n",
       "      <td>0</td>\n",
       "    </tr>\n",
       "    <tr>\n",
       "      <th>2015-01-18</th>\n",
       "      <td>Germany</td>\n",
       "      <td>AA1821</td>\n",
       "      <td>49</td>\n",
       "      <td>31.95</td>\n",
       "      <td>29.95</td>\n",
       "      <td>0.937402</td>\n",
       "      <td>0</td>\n",
       "      <td>0</td>\n",
       "    </tr>\n",
       "    <tr>\n",
       "      <th>2015-01-25</th>\n",
       "      <td>Germany</td>\n",
       "      <td>AA1821</td>\n",
       "      <td>883</td>\n",
       "      <td>31.95</td>\n",
       "      <td>24.95</td>\n",
       "      <td>0.780908</td>\n",
       "      <td>0</td>\n",
       "      <td>0</td>\n",
       "    </tr>\n",
       "  </tbody>\n",
       "</table>\n",
       "</div>"
      ],
      "text/plain": [
       "            country article  sales  regular_price  current_price     ratio  \\\n",
       "retailweek                                                                   \n",
       "2014-12-28  Germany  AA1821     62          31.95          25.95  0.812207   \n",
       "2015-01-04  Germany  AA1821     29          31.95          22.95  0.718310   \n",
       "2015-01-11  Germany  AA1821     58          31.95          28.95  0.906103   \n",
       "2015-01-18  Germany  AA1821     49          31.95          29.95  0.937402   \n",
       "2015-01-25  Germany  AA1821    883          31.95          24.95  0.780908   \n",
       "\n",
       "            promo1  promo2  \n",
       "retailweek                  \n",
       "2014-12-28       1       0  \n",
       "2015-01-04       0       0  \n",
       "2015-01-11       0       0  \n",
       "2015-01-18       0       0  \n",
       "2015-01-25       0       0  "
      ]
     },
     "execution_count": 3,
     "metadata": {},
     "output_type": "execute_result"
    }
   ],
   "source": [
    "#loading Sales dataset\n",
    "dataset = pd.read_csv('sales.txt', delimiter = ';',index_col='retailweek',parse_dates=True )\n",
    "dataset.head(5)"
   ]
  },
  {
   "cell_type": "markdown",
   "metadata": {},
   "source": [
    "## Combining same retailweeks and adding it's respecttive sales values"
   ]
  },
  {
   "cell_type": "code",
   "execution_count": 4,
   "metadata": {},
   "outputs": [
    {
     "data": {
      "text/html": [
       "<div>\n",
       "<style scoped>\n",
       "    .dataframe tbody tr th:only-of-type {\n",
       "        vertical-align: middle;\n",
       "    }\n",
       "\n",
       "    .dataframe tbody tr th {\n",
       "        vertical-align: top;\n",
       "    }\n",
       "\n",
       "    .dataframe thead th {\n",
       "        text-align: right;\n",
       "    }\n",
       "</style>\n",
       "<table border=\"1\" class=\"dataframe\">\n",
       "  <thead>\n",
       "    <tr style=\"text-align: right;\">\n",
       "      <th></th>\n",
       "      <th>sales</th>\n",
       "      <th>regular_price</th>\n",
       "      <th>current_price</th>\n",
       "      <th>ratio</th>\n",
       "      <th>promo1</th>\n",
       "      <th>promo2</th>\n",
       "    </tr>\n",
       "    <tr>\n",
       "      <th>retailweek</th>\n",
       "      <th></th>\n",
       "      <th></th>\n",
       "      <th></th>\n",
       "      <th></th>\n",
       "      <th></th>\n",
       "      <th></th>\n",
       "    </tr>\n",
       "  </thead>\n",
       "  <tbody>\n",
       "    <tr>\n",
       "      <th>2014-12-28</th>\n",
       "      <td>67578</td>\n",
       "      <td>34834.9</td>\n",
       "      <td>21260.9</td>\n",
       "      <td>405.285245</td>\n",
       "      <td>662</td>\n",
       "      <td>0</td>\n",
       "    </tr>\n",
       "    <tr>\n",
       "      <th>2015-01-04</th>\n",
       "      <td>24676</td>\n",
       "      <td>34834.9</td>\n",
       "      <td>22880.9</td>\n",
       "      <td>440.971589</td>\n",
       "      <td>0</td>\n",
       "      <td>0</td>\n",
       "    </tr>\n",
       "    <tr>\n",
       "      <th>2015-01-11</th>\n",
       "      <td>26929</td>\n",
       "      <td>34834.9</td>\n",
       "      <td>24580.9</td>\n",
       "      <td>470.672012</td>\n",
       "      <td>0</td>\n",
       "      <td>0</td>\n",
       "    </tr>\n",
       "    <tr>\n",
       "      <th>2015-01-18</th>\n",
       "      <td>20912</td>\n",
       "      <td>34834.9</td>\n",
       "      <td>25715.9</td>\n",
       "      <td>488.332017</td>\n",
       "      <td>0</td>\n",
       "      <td>0</td>\n",
       "    </tr>\n",
       "    <tr>\n",
       "      <th>2015-01-25</th>\n",
       "      <td>22109</td>\n",
       "      <td>34834.9</td>\n",
       "      <td>26950.9</td>\n",
       "      <td>515.169986</td>\n",
       "      <td>0</td>\n",
       "      <td>103</td>\n",
       "    </tr>\n",
       "  </tbody>\n",
       "</table>\n",
       "</div>"
      ],
      "text/plain": [
       "            sales  regular_price  current_price       ratio  promo1  promo2\n",
       "retailweek                                                                 \n",
       "2014-12-28  67578        34834.9        21260.9  405.285245     662       0\n",
       "2015-01-04  24676        34834.9        22880.9  440.971589       0       0\n",
       "2015-01-11  26929        34834.9        24580.9  470.672012       0       0\n",
       "2015-01-18  20912        34834.9        25715.9  488.332017       0       0\n",
       "2015-01-25  22109        34834.9        26950.9  515.169986       0     103"
      ]
     },
     "execution_count": 4,
     "metadata": {},
     "output_type": "execute_result"
    }
   ],
   "source": [
    "dataset_unique_week = pd.DataFrame(data= dataset.groupby('retailweek').sum())\n",
    "dataset_unique_week.index.freq = 'W'\n",
    "dataset_unique_week.head()\n"
   ]
  },
  {
   "cell_type": "markdown",
   "metadata": {},
   "source": [
    "## Resampling datetime index to monthly data for monthly forecast (optional)"
   ]
  },
  {
   "cell_type": "code",
   "execution_count": 5,
   "metadata": {},
   "outputs": [
    {
     "data": {
      "text/html": [
       "<div>\n",
       "<style scoped>\n",
       "    .dataframe tbody tr th:only-of-type {\n",
       "        vertical-align: middle;\n",
       "    }\n",
       "\n",
       "    .dataframe tbody tr th {\n",
       "        vertical-align: top;\n",
       "    }\n",
       "\n",
       "    .dataframe thead th {\n",
       "        text-align: right;\n",
       "    }\n",
       "</style>\n",
       "<table border=\"1\" class=\"dataframe\">\n",
       "  <thead>\n",
       "    <tr style=\"text-align: right;\">\n",
       "      <th></th>\n",
       "      <th>sales</th>\n",
       "      <th>regular_price</th>\n",
       "      <th>current_price</th>\n",
       "      <th>ratio</th>\n",
       "      <th>promo1</th>\n",
       "      <th>promo2</th>\n",
       "    </tr>\n",
       "    <tr>\n",
       "      <th>retailweek</th>\n",
       "      <th></th>\n",
       "      <th></th>\n",
       "      <th></th>\n",
       "      <th></th>\n",
       "      <th></th>\n",
       "      <th></th>\n",
       "    </tr>\n",
       "  </thead>\n",
       "  <tbody>\n",
       "    <tr>\n",
       "      <th>2014-12-31</th>\n",
       "      <td>67578.0</td>\n",
       "      <td>34834.9</td>\n",
       "      <td>21260.90</td>\n",
       "      <td>405.285245</td>\n",
       "      <td>662.0</td>\n",
       "      <td>0.00</td>\n",
       "    </tr>\n",
       "    <tr>\n",
       "      <th>2015-01-31</th>\n",
       "      <td>23656.5</td>\n",
       "      <td>34834.9</td>\n",
       "      <td>25032.15</td>\n",
       "      <td>478.786401</td>\n",
       "      <td>0.0</td>\n",
       "      <td>25.75</td>\n",
       "    </tr>\n",
       "    <tr>\n",
       "      <th>2015-02-28</th>\n",
       "      <td>19830.0</td>\n",
       "      <td>34834.9</td>\n",
       "      <td>25889.65</td>\n",
       "      <td>496.946171</td>\n",
       "      <td>0.0</td>\n",
       "      <td>0.00</td>\n",
       "    </tr>\n",
       "    <tr>\n",
       "      <th>2015-03-31</th>\n",
       "      <td>31878.8</td>\n",
       "      <td>34834.9</td>\n",
       "      <td>19400.30</td>\n",
       "      <td>371.006995</td>\n",
       "      <td>0.0</td>\n",
       "      <td>0.00</td>\n",
       "    </tr>\n",
       "    <tr>\n",
       "      <th>2015-04-30</th>\n",
       "      <td>52082.5</td>\n",
       "      <td>34834.9</td>\n",
       "      <td>12906.65</td>\n",
       "      <td>250.413231</td>\n",
       "      <td>0.0</td>\n",
       "      <td>0.00</td>\n",
       "    </tr>\n",
       "  </tbody>\n",
       "</table>\n",
       "</div>"
      ],
      "text/plain": [
       "              sales  regular_price  current_price       ratio  promo1  promo2\n",
       "retailweek                                                                   \n",
       "2014-12-31  67578.0        34834.9       21260.90  405.285245   662.0    0.00\n",
       "2015-01-31  23656.5        34834.9       25032.15  478.786401     0.0   25.75\n",
       "2015-02-28  19830.0        34834.9       25889.65  496.946171     0.0    0.00\n",
       "2015-03-31  31878.8        34834.9       19400.30  371.006995     0.0    0.00\n",
       "2015-04-30  52082.5        34834.9       12906.65  250.413231     0.0    0.00"
      ]
     },
     "execution_count": 5,
     "metadata": {},
     "output_type": "execute_result"
    }
   ],
   "source": [
    "dataset_unique_month = dataset_unique_week.resample(rule='M').mean()\n",
    "dataset_unique_month.head()\n"
   ]
  },
  {
   "cell_type": "markdown",
   "metadata": {},
   "source": [
    "### Running the augmented Dickey-Fuller Test to confirm stationarity"
   ]
  },
  {
   "cell_type": "code",
   "execution_count": 6,
   "metadata": {},
   "outputs": [
    {
     "name": "stdout",
     "output_type": "stream",
     "text": [
      "Augmented Dickey-Fuller Test: \n",
      "ADF test statistic     -5.853434e+00\n",
      "p-value                 3.545209e-07\n",
      "# lags used             1.200000e+01\n",
      "# observations          1.100000e+02\n",
      "critical value (1%)    -3.491245e+00\n",
      "critical value (5%)    -2.888195e+00\n",
      "critical value (10%)   -2.580988e+00\n",
      "Strong evidence against the null hypothesis\n",
      "Reject the null hypothesis\n",
      "Data has no unit root and is stationary\n"
     ]
    }
   ],
   "source": [
    "adf_test(dataset_unique_week['sales'])"
   ]
  },
  {
   "cell_type": "markdown",
   "metadata": {},
   "source": [
    "### Determining the (p,q) ARMA Orders\n",
    "This will give us the $p$ and $q$ value recommendations for this dataset."
   ]
  },
  {
   "cell_type": "code",
   "execution_count": 7,
   "metadata": {},
   "outputs": [
    {
     "name": "stderr",
     "output_type": "stream",
     "text": [
      "/anaconda3/lib/python3.7/site-packages/statsmodels/base/model.py:488: HessianInversionWarning: Inverting hessian failed, no bse or cov_params available\n",
      "  'available', HessianInversionWarning)\n"
     ]
    },
    {
     "data": {
      "text/plain": [
       "{'bic':              0            1            2\n",
       " 0  2710.163305  2654.716932  2640.082673\n",
       " 1  2618.089852  2622.635566  2627.443838\n",
       " 2  2622.636240  2627.447384          NaN\n",
       " 3  2627.452589  2610.194437          NaN\n",
       " 4  2631.552570  2607.964397  2597.260368, 'bic_min_order': (4, 2)}"
      ]
     },
     "execution_count": 7,
     "metadata": {},
     "output_type": "execute_result"
    }
   ],
   "source": [
    "arma_order_select_ic(dataset_unique_week['sales'])"
   ]
  },
  {
   "cell_type": "markdown",
   "metadata": {},
   "source": [
    "## Ploting the sales data from the dataset"
   ]
  },
  {
   "cell_type": "code",
   "execution_count": 8,
   "metadata": {},
   "outputs": [
    {
     "data": {
      "image/png": "[encoded data removed]",
      "text/plain": [
       "<Figure size 864x360 with 1 Axes>"
      ]
     },
     "metadata": {
      "needs_background": "light"
     },
     "output_type": "display_data"
    }
   ],
   "source": [
    "dataset_unique_week['sales'].plot(figsize=(12,5));"
   ]
  },
  {
   "cell_type": "markdown",
   "metadata": {},
   "source": [
    "### Splitting the data into train/test sets\n",
    "As a general rule, we should set the length of your test set equal to your intended forecast size. For this dataset I will attempted 6-months forecast."
   ]
  },
  {
   "cell_type": "code",
   "execution_count": 9,
   "metadata": {},
   "outputs": [],
   "source": [
    "train = dataset_unique_week.iloc[:97]\n",
    "test = dataset_unique_week.iloc[97:]"
   ]
  },
  {
   "cell_type": "code",
   "execution_count": 10,
   "metadata": {},
   "outputs": [],
   "source": [
    "#train.describe()\n",
    "#test.describe()"
   ]
  },
  {
   "cell_type": "markdown",
   "metadata": {},
   "source": [
    "### Fitting an ARMA(p,q) Model"
   ]
  },
  {
   "cell_type": "code",
   "execution_count": 11,
   "metadata": {},
   "outputs": [],
   "source": [
    "#help(ARMA) "
   ]
  },
  {
   "cell_type": "code",
   "execution_count": 12,
   "metadata": {},
   "outputs": [
    {
     "name": "stderr",
     "output_type": "stream",
     "text": [
      "/anaconda3/lib/python3.7/site-packages/statsmodels/base/model.py:488: HessianInversionWarning: Inverting hessian failed, no bse or cov_params available\n",
      "  'available', HessianInversionWarning)\n",
      "/anaconda3/lib/python3.7/site-packages/statsmodels/base/model.py:508: ConvergenceWarning: Maximum Likelihood optimization failed to converge. Check mle_retvals\n",
      "  \"Check mle_retvals\", ConvergenceWarning)\n"
     ]
    },
    {
     "data": {
      "text/html": [
       "<table class=\"simpletable\">\n",
       "<caption>ARMA Model Results</caption>\n",
       "<tr>\n",
       "  <th>Dep. Variable:</th>       <td>sales</td>      <th>  No. Observations:  </th>    <td>97</td>   \n",
       "</tr>\n",
       "<tr>\n",
       "  <th>Model:</th>            <td>ARMA(4, 2)</td>    <th>  Log Likelihood     </th> <td>-997.662</td>\n",
       "</tr>\n",
       "<tr>\n",
       "  <th>Method:</th>             <td>css-mle</td>     <th>  S.D. of innovations</th> <td>6826.783</td>\n",
       "</tr>\n",
       "<tr>\n",
       "  <th>Date:</th>          <td>Wed, 22 May 2019</td> <th>  AIC                </th> <td>2011.325</td>\n",
       "</tr>\n",
       "<tr>\n",
       "  <th>Time:</th>              <td>15:33:43</td>     <th>  BIC                </th> <td>2031.923</td>\n",
       "</tr>\n",
       "<tr>\n",
       "  <th>Sample:</th>           <td>12-28-2014</td>    <th>  HQIC               </th> <td>2019.654</td>\n",
       "</tr>\n",
       "<tr>\n",
       "  <th></th>                 <td>- 10-30-2016</td>   <th>                     </th>     <td> </td>   \n",
       "</tr>\n",
       "</table>\n",
       "<table class=\"simpletable\">\n",
       "<tr>\n",
       "       <td></td>          <th>coef</th>     <th>std err</th>      <th>z</th>      <th>P>|z|</th>  <th>[0.025</th>    <th>0.975]</th>  \n",
       "</tr>\n",
       "<tr>\n",
       "  <th>const</th>       <td>  3.86e+04</td> <td>  146.982</td> <td>  262.636</td> <td> 0.000</td> <td> 3.83e+04</td> <td> 3.89e+04</td>\n",
       "</tr>\n",
       "<tr>\n",
       "  <th>ar.L1.sales</th> <td>    2.2942</td> <td>    0.158</td> <td>   14.524</td> <td> 0.000</td> <td>    1.985</td> <td>    2.604</td>\n",
       "</tr>\n",
       "<tr>\n",
       "  <th>ar.L2.sales</th> <td>   -2.0405</td> <td>    0.311</td> <td>   -6.560</td> <td> 0.000</td> <td>   -2.650</td> <td>   -1.431</td>\n",
       "</tr>\n",
       "<tr>\n",
       "  <th>ar.L3.sales</th> <td>    1.0182</td> <td>    0.266</td> <td>    3.827</td> <td> 0.000</td> <td>    0.497</td> <td>    1.540</td>\n",
       "</tr>\n",
       "<tr>\n",
       "  <th>ar.L4.sales</th> <td>   -0.3306</td> <td>    0.120</td> <td>   -2.756</td> <td> 0.007</td> <td>   -0.566</td> <td>   -0.095</td>\n",
       "</tr>\n",
       "<tr>\n",
       "  <th>ma.L1.sales</th> <td>   -1.6836</td> <td>    0.149</td> <td>  -11.294</td> <td> 0.000</td> <td>   -1.976</td> <td>   -1.391</td>\n",
       "</tr>\n",
       "<tr>\n",
       "  <th>ma.L2.sales</th> <td>    0.6836</td> <td>    0.146</td> <td>    4.669</td> <td> 0.000</td> <td>    0.397</td> <td>    0.971</td>\n",
       "</tr>\n",
       "</table>\n",
       "<table class=\"simpletable\">\n",
       "<caption>Roots</caption>\n",
       "<tr>\n",
       "    <td></td>   <th>            Real</th>  <th>         Imaginary</th> <th>         Modulus</th>  <th>        Frequency</th>\n",
       "</tr>\n",
       "<tr>\n",
       "  <th>AR.1</th> <td>           0.9807</td> <td>          -0.2493j</td> <td>           1.0119</td> <td>          -0.0396</td>\n",
       "</tr>\n",
       "<tr>\n",
       "  <th>AR.2</th> <td>           0.9807</td> <td>          +0.2493j</td> <td>           1.0119</td> <td>           0.0396</td>\n",
       "</tr>\n",
       "<tr>\n",
       "  <th>AR.3</th> <td>           0.5594</td> <td>          -1.6253j</td> <td>           1.7189</td> <td>          -0.1972</td>\n",
       "</tr>\n",
       "<tr>\n",
       "  <th>AR.4</th> <td>           0.5594</td> <td>          +1.6253j</td> <td>           1.7189</td> <td>           0.1972</td>\n",
       "</tr>\n",
       "<tr>\n",
       "  <th>MA.1</th> <td>           1.0000</td> <td>          +0.0000j</td> <td>           1.0000</td> <td>           0.0000</td>\n",
       "</tr>\n",
       "<tr>\n",
       "  <th>MA.2</th> <td>           1.4628</td> <td>          +0.0000j</td> <td>           1.4628</td> <td>           0.0000</td>\n",
       "</tr>\n",
       "</table>"
      ],
      "text/plain": [
       "<class 'statsmodels.iolib.summary.Summary'>\n",
       "\"\"\"\n",
       "                              ARMA Model Results                              \n",
       "==============================================================================\n",
       "Dep. Variable:                  sales   No. Observations:                   97\n",
       "Model:                     ARMA(4, 2)   Log Likelihood                -997.662\n",
       "Method:                       css-mle   S.D. of innovations           6826.783\n",
       "Date:                Wed, 22 May 2019   AIC                           2011.325\n",
       "Time:                        15:33:43   BIC                           2031.923\n",
       "Sample:                    12-28-2014   HQIC                          2019.654\n",
       "                         - 10-30-2016                                         \n",
       "===============================================================================\n",
       "                  coef    std err          z      P>|z|      [0.025      0.975]\n",
       "-------------------------------------------------------------------------------\n",
       "const         3.86e+04    146.982    262.636      0.000    3.83e+04    3.89e+04\n",
       "ar.L1.sales     2.2942      0.158     14.524      0.000       1.985       2.604\n",
       "ar.L2.sales    -2.0405      0.311     -6.560      0.000      -2.650      -1.431\n",
       "ar.L3.sales     1.0182      0.266      3.827      0.000       0.497       1.540\n",
       "ar.L4.sales    -0.3306      0.120     -2.756      0.007      -0.566      -0.095\n",
       "ma.L1.sales    -1.6836      0.149    -11.294      0.000      -1.976      -1.391\n",
       "ma.L2.sales     0.6836      0.146      4.669      0.000       0.397       0.971\n",
       "                                    Roots                                    \n",
       "=============================================================================\n",
       "                  Real          Imaginary           Modulus         Frequency\n",
       "-----------------------------------------------------------------------------\n",
       "AR.1            0.9807           -0.2493j            1.0119           -0.0396\n",
       "AR.2            0.9807           +0.2493j            1.0119            0.0396\n",
       "AR.3            0.5594           -1.6253j            1.7189           -0.1972\n",
       "AR.4            0.5594           +1.6253j            1.7189            0.1972\n",
       "MA.1            1.0000           +0.0000j            1.0000            0.0000\n",
       "MA.2            1.4628           +0.0000j            1.4628            0.0000\n",
       "-----------------------------------------------------------------------------\n",
       "\"\"\""
      ]
     },
     "execution_count": 12,
     "metadata": {},
     "output_type": "execute_result"
    }
   ],
   "source": [
    "model = ARMA(train['sales'],order=(4,2))\n",
    "results = model.fit()\n",
    "results.summary()"
   ]
  },
  {
   "cell_type": "markdown",
   "metadata": {},
   "source": [
    "### Predicting 6 month's values to later compare it with test sets"
   ]
  },
  {
   "cell_type": "code",
   "execution_count": 13,
   "metadata": {},
   "outputs": [],
   "source": [
    "start=len(train)\n",
    "end=len(train)+len(test)-1\n",
    "predictions = results.predict(start=start, end=end).rename('ARMA(2,2) Predictions')"
   ]
  },
  {
   "cell_type": "markdown",
   "metadata": {},
   "source": [
    "### Plotting predictions against known test values"
   ]
  },
  {
   "cell_type": "code",
   "execution_count": 14,
   "metadata": {},
   "outputs": [
    {
     "data": {
      "image/png": "[encoded data removed]",
      "text/plain": [
       "<Figure size 864x432 with 1 Axes>"
      ]
     },
     "metadata": {
      "needs_background": "light"
     },
     "output_type": "display_data"
    }
   ],
   "source": [
    "title = 'Weekly Total Sales'\n",
    "ylabel='Sales'\n",
    "xlabel='' # we don't really need a label here\n",
    "\n",
    "ax = test['sales'].plot(legend=True,figsize=(12,6),title=title)\n",
    "predictions.plot(legend=True)\n",
    "ax.autoscale(axis='x',tight=True)\n",
    "ax.set(xlabel=xlabel, ylabel=ylabel);"
   ]
  },
  {
   "cell_type": "code",
   "execution_count": 15,
   "metadata": {},
   "outputs": [
    {
     "name": "stdout",
     "output_type": "stream",
     "text": [
      "ARMA(4,2) RMSE Error: 9756.246145\n"
     ]
    }
   ],
   "source": [
    "from statsmodels.tools.eval_measures import rmse\n",
    "\n",
    "error = rmse(test['sales'], predictions)\n",
    "print(f'ARMA(4,2) RMSE Error: {error:11.10}')"
   ]
  },
  {
   "cell_type": "markdown",
   "metadata": {},
   "source": [
    "Since our dataset exhibited no trend or seasonal component, this prediction makes sense."
   ]
  },
  {
   "cell_type": "markdown",
   "metadata": {},
   "source": [
    "### Evaluating the Model"
   ]
  },
  {
   "cell_type": "code",
   "execution_count": 16,
   "metadata": {},
   "outputs": [
    {
     "name": "stdout",
     "output_type": "stream",
     "text": [
      "ARMA(4,2) RMSE Error: 9756.246145\n"
     ]
    }
   ],
   "source": [
    "error = rmse(test['sales'], predictions)\n",
    "print(f'ARMA(4,2) RMSE Error: {error:11.10}')"
   ]
  },
  {
   "cell_type": "markdown",
   "metadata": {},
   "source": [
    "### Retraining the model on the full data, and then forecasting the future"
   ]
  },
  {
   "cell_type": "code",
   "execution_count": 30,
   "metadata": {},
   "outputs": [],
   "source": [
    "model = ARMA(dataset_unique_week['sales'],order=(4,2))\n",
    "results = model.fit()\n",
    "fcast = results.predict(len(dataset_unique_week),len(dataset_unique_week)+6).rename('ARMA(4,2) Forecast')"
   ]
  },
  {
   "cell_type": "code",
   "execution_count": 32,
   "metadata": {},
   "outputs": [
    {
     "data": {
      "image/png": "[encoded data removed]",
      "text/plain": [
       "<Figure size 864x432 with 1 Axes>"
      ]
     },
     "metadata": {
      "needs_background": "light"
     },
     "output_type": "display_data"
    }
   ],
   "source": [
    "title = 'Future Sales'\n",
    "ylabel='Sales'\n",
    "xlabel='' # we don't really need a label here\n",
    "\n",
    "ax = dataset_unique_week['sales'].plot(legend=True,figsize=(12,6),title=title)\n",
    "fcast.plot(legend=True)\n",
    "ax.autoscale(axis='x',tight=True)\n",
    "ax.set(xlabel=xlabel, ylabel=ylabel);"
   ]
  },
  {
   "cell_type": "code",
   "execution_count": null,
   "metadata": {},
   "outputs": [],
   "source": []
  }
 ],
 "metadata": {
  "kernelspec": {
   "display_name": "Python 3",
   "language": "python",
   "name": "python3"
  },
  "language_info": {
   "codemirror_mode": {
    "name": "ipython",
    "version": 3
   },
   "file_extension": ".py",
   "mimetype": "text/x-python",
   "name": "python",
   "nbconvert_exporter": "python",
   "pygments_lexer": "ipython3",
   "version": "3.7.3"
  }
 },
 "nbformat": 4,
 "nbformat_minor": 2
}
